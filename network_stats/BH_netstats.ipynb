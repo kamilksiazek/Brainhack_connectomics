{
 "cells": [
  {
   "cell_type": "code",
   "execution_count": 3,
   "id": "0aa8a3dd",
   "metadata": {},
   "outputs": [
    {
     "name": "stdout",
     "output_type": "stream",
     "text": [
      "2.8.4\n",
      "C:\\Users\\Tomasz\\OneDrive - Uniwersytet Jagielloński\\Konfy\\Brainhack 2022\\Brainhack_connectomics\\network_stats\n"
     ]
    }
   ],
   "source": [
    "\n",
    "import numpy as np\n",
    "import matplotlib as mpl\n",
    "import matplotlib.pyplot as plt\n",
    "import networkx\n",
    "print(networkx.__version__)\n",
    "\n",
    "import os\n",
    "print(os.getcwd())"
   ]
  },
  {
   "cell_type": "code",
   "execution_count": null,
   "id": "640f430f",
   "metadata": {},
   "outputs": [],
   "source": []
  }
 ],
 "metadata": {
  "kernelspec": {
   "display_name": "Python (Brainhack 2022-10-22 network statistics",
   "language": "python",
   "name": "bh_netstats_jupyter"
  },
  "language_info": {
   "codemirror_mode": {
    "name": "ipython",
    "version": 3
   },
   "file_extension": ".py",
   "mimetype": "text/x-python",
   "name": "python",
   "nbconvert_exporter": "python",
   "pygments_lexer": "ipython3",
   "version": "3.9.13"
  }
 },
 "nbformat": 4,
 "nbformat_minor": 5
}
